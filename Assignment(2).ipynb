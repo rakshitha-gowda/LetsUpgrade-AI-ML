{
  "nbformat": 4,
  "nbformat_minor": 0,
  "metadata": {
    "colab": {
      "name": "Assignment(2).ipynb",
      "provenance": [],
      "authorship_tag": "ABX9TyNF1LCUc627EzG+ZB9J0MiP",
      "include_colab_link": true
    },
    "kernelspec": {
      "name": "python3",
      "display_name": "Python 3"
    }
  },
  "cells": [
    {
      "cell_type": "markdown",
      "metadata": {
        "id": "view-in-github",
        "colab_type": "text"
      },
      "source": [
        "<a href=\"https://colab.research.google.com/github/rakshitha-gowda/LetsUpgrade-AI-ML/blob/master/Assignment(2).ipynb\" target=\"_parent\"><img src=\"https://colab.research.google.com/assets/colab-badge.svg\" alt=\"Open In Colab\"/></a>"
      ]
    },
    {
      "cell_type": "markdown",
      "metadata": {
        "id": "INw48MCYUerq",
        "colab_type": "text"
      },
      "source": [
        "# **Assignment(Day 4)**"
      ]
    },
    {
      "cell_type": "markdown",
      "metadata": {
        "id": "Q4qc5gpBUkET",
        "colab_type": "text"
      },
      "source": [
        "1. Research on whether addition, subtraction, multiplication, division, floor division, and modulo operations\n",
        "be performed on complex numbers. Based on your study, implement a Python program to demonstrate\n",
        "these operations."
      ]
    },
    {
      "cell_type": "code",
      "metadata": {
        "id": "_BepDDwqUoj7",
        "colab_type": "code",
        "colab": {
          "base_uri": "https://localhost:8080/",
          "height": 85
        },
        "outputId": "410a4e6e-e6e2-4ee5-c476-b09ac97e80b0"
      },
      "source": [
        "a = complex(input(\"Enter the complex number:- \"))\n",
        "b = complex(input(\"Enter the complex number:- \"))\n",
        "op = input(\"Enter the operation you want to perform:- \")\n",
        "if op=='+':\n",
        "  print(\"Addition=\",a+b)\n",
        "elif op=='-':\n",
        "  print(\"Subtraction=\",a-b)\n",
        "elif op=='/':\n",
        "  print(\"Division=\",a/b)\n",
        "elif op=='*':\n",
        "  print(\"Multiplication=\",a*b)\n",
        "elif op=='//':\n",
        "  print(\"Floor Division cant be done on complex numbers\")\n",
        "elif op=='%':\n",
        "  print(\"Modulus=\",mod(a))"
      ],
      "execution_count": 1,
      "outputs": [
        {
          "output_type": "stream",
          "text": [
            "Enter the complex number:- 4+5j\n",
            "Enter the complex number:- 2+3j\n",
            "Enter the operation you want to perform:- +\n",
            "Addition= (6+8j)\n"
          ],
          "name": "stdout"
        }
      ]
    },
    {
      "cell_type": "markdown",
      "metadata": {
        "id": "NhWffDxTVRPE",
        "colab_type": "text"
      },
      "source": [
        "2. Research on range() functions and its parameters. Create a markdown cell and write in your own words\n",
        "(no copy-paste from google please) what you understand about it. Implement a small program of your\n",
        "choice on the same."
      ]
    },
    {
      "cell_type": "markdown",
      "metadata": {
        "id": "gvCbEvwDV99E",
        "colab_type": "text"
      },
      "source": [
        "**range()** is a function used for looping in python.It returns a sequence of numbers from 0 by defualt and increments by 1, and stops before a specified number.\n",
        "\n",
        "syntax- range(start,stop,step)\n",
        "          In this, start and step are optional and will by 0 and 1 respectively by default but the stop has to be specified. The loops ends before a specified number.\n"
      ]
    },
    {
      "cell_type": "code",
      "metadata": {
        "id": "M-AoqOEsYN2f",
        "colab_type": "code",
        "colab": {
          "base_uri": "https://localhost:8080/",
          "height": 102
        },
        "outputId": "9c15a5e8-4024-43a9-b556-50b77d9427e1"
      },
      "source": [
        "for i in range(5):\n",
        "  print(i)"
      ],
      "execution_count": 2,
      "outputs": [
        {
          "output_type": "stream",
          "text": [
            "0\n",
            "1\n",
            "2\n",
            "3\n",
            "4\n"
          ],
          "name": "stdout"
        }
      ]
    },
    {
      "cell_type": "code",
      "metadata": {
        "id": "l29YPzX5Yh6f",
        "colab_type": "code",
        "colab": {
          "base_uri": "https://localhost:8080/",
          "height": 85
        },
        "outputId": "bc943df8-2466-47ee-b33c-6c77c8002372"
      },
      "source": [
        "for i in range(1,5):\n",
        "  print(i)"
      ],
      "execution_count": 3,
      "outputs": [
        {
          "output_type": "stream",
          "text": [
            "1\n",
            "2\n",
            "3\n",
            "4\n"
          ],
          "name": "stdout"
        }
      ]
    },
    {
      "cell_type": "code",
      "metadata": {
        "id": "dFBVEUc7YuL7",
        "colab_type": "code",
        "colab": {
          "base_uri": "https://localhost:8080/",
          "height": 51
        },
        "outputId": "5bb7ae00-eee1-4bcf-c5ed-425d70aa6b7c"
      },
      "source": [
        "for i in range(1,5,2):\n",
        "  print(i)"
      ],
      "execution_count": 6,
      "outputs": [
        {
          "output_type": "stream",
          "text": [
            "1\n",
            "3\n"
          ],
          "name": "stdout"
        }
      ]
    },
    {
      "cell_type": "markdown",
      "metadata": {
        "id": "YHGSS4nWZBMY",
        "colab_type": "text"
      },
      "source": [
        "3. Consider two numbers. Perform their subtraction and if the result of subtraction is greater than 25, print\n",
        "their multiplication result else print their division result."
      ]
    },
    {
      "cell_type": "code",
      "metadata": {
        "id": "eJNTKvl9ZG0L",
        "colab_type": "code",
        "colab": {
          "base_uri": "https://localhost:8080/",
          "height": 68
        },
        "outputId": "946d5416-32a1-4d47-bfaf-a8c1db6a583b"
      },
      "source": [
        "a = int(input(\"Enter a number:-\"))\n",
        "b = int(input(\"Enter a number:-\"))\n",
        "sub = a-b\n",
        "if sub>25:\n",
        "  print(\"Multiplication=\",a*b)\n",
        "else:\n",
        "  print(\"Division=\",a/b)"
      ],
      "execution_count": 7,
      "outputs": [
        {
          "output_type": "stream",
          "text": [
            "Enter a number:-100\n",
            "Enter a number:-25\n",
            "Multiplication= 2500\n"
          ],
          "name": "stdout"
        }
      ]
    },
    {
      "cell_type": "markdown",
      "metadata": {
        "id": "tjTmKq8KZUlD",
        "colab_type": "text"
      },
      "source": [
        "4. Consider a list of 10 elements of integer values. If the number in the list is divisible by 2, print the result as\n",
        "\"square of that number minus 2\"."
      ]
    },
    {
      "cell_type": "code",
      "metadata": {
        "id": "G0no6E2TZaHl",
        "colab_type": "code",
        "colab": {
          "base_uri": "https://localhost:8080/",
          "height": 102
        },
        "outputId": "1badf32b-6643-4da9-9657-22a434bd456f"
      },
      "source": [
        "list1 = [1,2,3,4,5,6,7,8,9,10]\n",
        "for i in list1:\n",
        "  if i%2 == 0:\n",
        "    print(i, \"is square of that number minus 2\")\n",
        "  else:\n",
        "    continue"
      ],
      "execution_count": 9,
      "outputs": [
        {
          "output_type": "stream",
          "text": [
            "2 is square of that number minus 2\n",
            "4 is square of that number minus 2\n",
            "6 is square of that number minus 2\n",
            "8 is square of that number minus 2\n",
            "10 is square of that number minus 2\n"
          ],
          "name": "stdout"
        }
      ]
    },
    {
      "cell_type": "markdown",
      "metadata": {
        "id": "bkt-Gn6Ka51m",
        "colab_type": "text"
      },
      "source": [
        "5. Consider a list of 10 elements. Print all the elements in the list which are greater than 7 when that number\n",
        "is divided 2."
      ]
    },
    {
      "cell_type": "code",
      "metadata": {
        "id": "fflzhjg-a7sk",
        "colab_type": "code",
        "colab": {
          "base_uri": "https://localhost:8080/",
          "height": 68
        },
        "outputId": "204db5cc-de2b-419e-f8b9-47d71e2a9ad2"
      },
      "source": [
        "list2 = [4,5,6,7,8,9,10,11,12,13]\n",
        "for i in list2:\n",
        "  if i>7:\n",
        "    if i%2==0:\n",
        "      print(i)"
      ],
      "execution_count": 10,
      "outputs": [
        {
          "output_type": "stream",
          "text": [
            "8\n",
            "10\n",
            "12\n"
          ],
          "name": "stdout"
        }
      ]
    }
  ]
}