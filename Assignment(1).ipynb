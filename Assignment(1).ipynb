{
  "nbformat": 4,
  "nbformat_minor": 0,
  "metadata": {
    "colab": {
      "name": "Assignment(1).ipynb",
      "provenance": [],
      "collapsed_sections": []
    },
    "kernelspec": {
      "name": "python3",
      "display_name": "Python 3"
    }
  },
  "cells": [
    {
      "cell_type": "markdown",
      "metadata": {
        "id": "7AZ_eRhXEc2I",
        "colab_type": "text"
      },
      "source": [
        "# **ASSIGNMENT(1)**\n",
        "\n"
      ]
    },
    {
      "cell_type": "markdown",
      "metadata": {
        "id": "Hvt_L4cvEhj5",
        "colab_type": "text"
      },
      "source": [
        "1.Write a program to subtract two complex numbers in Python"
      ]
    },
    {
      "cell_type": "code",
      "metadata": {
        "id": "hbNa5cl7JGXu",
        "colab_type": "code",
        "colab": {
          "base_uri": "https://localhost:8080/",
          "height": 68
        },
        "outputId": "a0b510cf-3b59-4515-efde-fd226943a68b"
      },
      "source": [
        "a = complex(input(\"Enter your first complex number: \"))\n",
        "b = complex(input(\"Enter your second complex number: \"))\n",
        "print( \"The result after subtraction is :\", a-b)"
      ],
      "execution_count": 15,
      "outputs": [
        {
          "output_type": "stream",
          "text": [
            "Enter your first complex number: 5+6j\n",
            "Enter your second complex number: 3+4j\n",
            "The result after subtraction is : (2+2j)\n"
          ],
          "name": "stdout"
        }
      ]
    },
    {
      "cell_type": "markdown",
      "metadata": {
        "id": "vnwTLD1jKGML",
        "colab_type": "text"
      },
      "source": [
        "2.Write a program to find the fourth root of a number."
      ]
    },
    {
      "cell_type": "code",
      "metadata": {
        "id": "fYlA6H1MKJ_y",
        "colab_type": "code",
        "colab": {
          "base_uri": "https://localhost:8080/",
          "height": 51
        },
        "outputId": "3bea872e-8128-4815-f50c-7ad24f34b6e5"
      },
      "source": [
        "a=int(input(\"enter your number: \"))\n",
        "x=a**0.25\n",
        "print(\"4th root of\",a,\"is\",x)"
      ],
      "execution_count": 13,
      "outputs": [
        {
          "output_type": "stream",
          "text": [
            "enter your number: 81\n",
            "4th root of 81 is 3.0\n"
          ],
          "name": "stdout"
        }
      ]
    },
    {
      "cell_type": "markdown",
      "metadata": {
        "id": "AWj3iDdHMhuR",
        "colab_type": "text"
      },
      "source": [
        "3.Write a program to swap two numbers in Python with the help of a temporary variable."
      ]
    },
    {
      "cell_type": "code",
      "metadata": {
        "id": "h7UTELTPMj_b",
        "colab_type": "code",
        "colab": {
          "base_uri": "https://localhost:8080/",
          "height": 85
        },
        "outputId": "fdf128ae-3d0b-4fae-90be-0299c00a805e"
      },
      "source": [
        "a = int(input(\"Enter your first number: \"))\n",
        "b = int(input(\"Enter your second number: \"))\n",
        "print(\"The a and b values before swapping are \",a , b)\n",
        "x = a\n",
        "a = b\n",
        "b = x\n",
        "print(\"The a and b values after swapping are \",a , b)"
      ],
      "execution_count": 4,
      "outputs": [
        {
          "output_type": "stream",
          "text": [
            "Enter your first number: 5\n",
            "Enter your second number: 8\n",
            "The a and b values before swapping are  5 8\n",
            "The a and b values after swapping are  8 5\n"
          ],
          "name": "stdout"
        }
      ]
    },
    {
      "cell_type": "markdown",
      "metadata": {
        "id": "OddiNFL1OPcI",
        "colab_type": "text"
      },
      "source": [
        "4.Write a program to swap two numbers in Python without using a temporary variable."
      ]
    },
    {
      "cell_type": "code",
      "metadata": {
        "id": "XFbw3BMLOQmK",
        "colab_type": "code",
        "colab": {
          "base_uri": "https://localhost:8080/",
          "height": 85
        },
        "outputId": "d1fe52df-a0e0-47d6-fc9b-8688c2a09dc1"
      },
      "source": [
        "a = int(input(\"Enter your first number: \"))\n",
        "b = int(input(\"Enter your second number: \"))\n",
        "print(\"The a and b values before swapping are \",a , b)\n",
        "a=a+b\n",
        "b=a-b\n",
        "a=a-b\n",
        "print(\"The a and b values after swapping are \",a , b)"
      ],
      "execution_count": 14,
      "outputs": [
        {
          "output_type": "stream",
          "text": [
            "Enter your first number: 5\n",
            "Enter your second number: 7\n",
            "The a and b values before swapping are  5 7\n",
            "The a and b values after swapping are  7 5\n"
          ],
          "name": "stdout"
        }
      ]
    },
    {
      "cell_type": "markdown",
      "metadata": {
        "id": "qyxnMy1KOl_C",
        "colab_type": "text"
      },
      "source": [
        "5.Write a program to convert Fahrenheit to kelvin and celsius both."
      ]
    },
    {
      "cell_type": "code",
      "metadata": {
        "id": "9R2JI7I9OpYH",
        "colab_type": "code",
        "colab": {
          "base_uri": "https://localhost:8080/",
          "height": 68
        },
        "outputId": "db50e9bb-1df8-4f25-af55-9b7ef0b3b554"
      },
      "source": [
        "fah = float(input(\"Enter the temperature in Fahrenheit \"))\n",
        "celsius = (fah-32)/1.8;\n",
        "kelvin = 273.5 + ((fah - 32.0) * (5.0/9.0)) \n",
        "print(\"The temperature in Celcius is = {:.3f}\".format(celsius))\n",
        "print(\"The temperature in Kelvin is = {:.3f}\".format(kelvin))"
      ],
      "execution_count": 7,
      "outputs": [
        {
          "output_type": "stream",
          "text": [
            "Enter the temperature in Fahrenheit 100\n",
            "The temperature in Celcius is = 37.778\n",
            "The temperature in Kelvin is = 311.278\n"
          ],
          "name": "stdout"
        }
      ]
    },
    {
      "cell_type": "markdown",
      "metadata": {
        "id": "zz1t_KPkPWp1",
        "colab_type": "text"
      },
      "source": [
        "6.Write a program to demonstrate all the available data types in Python. Hint: Use type() function.\n",
        "\n"
      ]
    },
    {
      "cell_type": "code",
      "metadata": {
        "id": "UTCV_5HsPZur",
        "colab_type": "code",
        "colab": {
          "base_uri": "https://localhost:8080/",
          "height": 170
        },
        "outputId": "e636c468-cfe3-4e6c-f78d-24b5588f44e3"
      },
      "source": [
        "a = \"Hello Python\"\n",
        "b = True\n",
        "c = 7\n",
        "d = 7.0\n",
        "e = [1,2,3,4]\n",
        "f = 5+3j\n",
        "g = (1,2,3)\n",
        "h = dict(name=\"Rakshitha\",ID=1307)\n",
        "i= set((1,2,3))\n",
        "print(type(a))\n",
        "print(type(b))\n",
        "print(type(c))\n",
        "print(type(d))\n",
        "print(type(e))\n",
        "print(type(f))\n",
        "print(type(g))\n",
        "print(type(h))\n",
        "print(type(i))"
      ],
      "execution_count": 8,
      "outputs": [
        {
          "output_type": "stream",
          "text": [
            "<class 'str'>\n",
            "<class 'bool'>\n",
            "<class 'int'>\n",
            "<class 'float'>\n",
            "<class 'list'>\n",
            "<class 'complex'>\n",
            "<class 'tuple'>\n",
            "<class 'dict'>\n",
            "<class 'set'>\n"
          ],
          "name": "stdout"
        }
      ]
    }
  ]
}