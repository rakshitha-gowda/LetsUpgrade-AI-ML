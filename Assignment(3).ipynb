{
  "nbformat": 4,
  "nbformat_minor": 0,
  "metadata": {
    "colab": {
      "name": "Assignment(3).ipynb",
      "provenance": [],
      "authorship_tag": "ABX9TyOPMuYHBicbJSYJjl6VwjEi",
      "include_colab_link": true
    },
    "kernelspec": {
      "name": "python3",
      "display_name": "Python 3"
    }
  },
  "cells": [
    {
      "cell_type": "markdown",
      "metadata": {
        "id": "view-in-github",
        "colab_type": "text"
      },
      "source": [
        "<a href=\"https://colab.research.google.com/github/rakshitha-gowda/LetsUpgrade-AI-ML/blob/master/Assignment(3).ipynb\" target=\"_parent\"><img src=\"https://colab.research.google.com/assets/colab-badge.svg\" alt=\"Open In Colab\"/></a>"
      ]
    },
    {
      "cell_type": "markdown",
      "metadata": {
        "id": "ERyrE84-dZyK",
        "colab_type": "text"
      },
      "source": [
        "# **Assignment(Day 5)**\n",
        "\n",
        "\n",
        "\n",
        "\n",
        "\n",
        "\n",
        "\n"
      ]
    },
    {
      "cell_type": "markdown",
      "metadata": {
        "id": "Nbkc8msMddst",
        "colab_type": "text"
      },
      "source": [
        "1. Write a Python program to find the first 20 non-even prime natural numbers."
      ]
    },
    {
      "cell_type": "code",
      "metadata": {
        "id": "bNA4HmRydvip",
        "colab_type": "code",
        "colab": {
          "base_uri": "https://localhost:8080/",
          "height": 357
        },
        "outputId": "c9209440-35cb-4467-ee03-9581f9452765"
      },
      "source": [
        "for i in range(3,74):\n",
        "  for j in range(2,i): \n",
        "    if i % j==0: \n",
        "      break\n",
        "  else: \n",
        "    print(i)\n",
        "    "
      ],
      "execution_count": 2,
      "outputs": [
        {
          "output_type": "stream",
          "text": [
            "3\n",
            "5\n",
            "7\n",
            "11\n",
            "13\n",
            "17\n",
            "19\n",
            "23\n",
            "29\n",
            "31\n",
            "37\n",
            "41\n",
            "43\n",
            "47\n",
            "53\n",
            "59\n",
            "61\n",
            "67\n",
            "71\n",
            "73\n"
          ],
          "name": "stdout"
        }
      ]
    },
    {
      "cell_type": "markdown",
      "metadata": {
        "id": "TEtQQ5lgemgb",
        "colab_type": "text"
      },
      "source": [
        "2. Write a Python program to implement 15 functions of string."
      ]
    },
    {
      "cell_type": "code",
      "metadata": {
        "id": "W1Q77M35eoHl",
        "colab_type": "code",
        "colab": {
          "base_uri": "https://localhost:8080/",
          "height": 289
        },
        "outputId": "e31130ec-baae-4de5-bdcb-05ba8d2ae4fb"
      },
      "source": [
        "string = input(\"Enter the string:- \")\n",
        "print(len(string))\n",
        "print(string.upper())\n",
        "print(string.isupper())\n",
        "print(string.lower())\n",
        "print(string.islower())\n",
        "print(string.capitalize())\n",
        "print(string.index('h'))\n",
        "print(string.isalnum())\n",
        "print(string.isalpha())\n",
        "print(string.isdecimal())\n",
        "print(string.isdigit())\n",
        "print(string.find('o'))\n",
        "print(string.endswith('t'))\n",
        "print(string.count('l'))\n",
        "print(string.encode())"
      ],
      "execution_count": 3,
      "outputs": [
        {
          "output_type": "stream",
          "text": [
            "Enter the string:- hello letsupgrade\n",
            "17\n",
            "HELLO LETSUPGRADE\n",
            "False\n",
            "hello letsupgrade\n",
            "True\n",
            "Hello letsupgrade\n",
            "0\n",
            "False\n",
            "False\n",
            "False\n",
            "False\n",
            "4\n",
            "False\n",
            "3\n",
            "b'hello letsupgrade'\n"
          ],
          "name": "stdout"
        }
      ]
    },
    {
      "cell_type": "markdown",
      "metadata": {
        "id": "6E2DaJCFfAyr",
        "colab_type": "text"
      },
      "source": [
        "3. Write a Python program to check if the given string is a Palindrome or Anagram or None of them. Display\n",
        "the message accordingly to the user."
      ]
    },
    {
      "cell_type": "code",
      "metadata": {
        "id": "diFRdi2tfFw9",
        "colab_type": "code",
        "colab": {
          "base_uri": "https://localhost:8080/",
          "height": 68
        },
        "outputId": "3a61179d-1094-4e5f-e49f-1828a9de1290"
      },
      "source": [
        "a = input(\"Enter the string:- \")\n",
        "b = input(\"Enter the string:- \")\n",
        "if a == b[::-1]:\n",
        "  print(\"Its Palindrome\")\n",
        "elif sorted(a)==sorted(b):\n",
        "  print(\"Its Anagram\")\n",
        "else:\n",
        "  print(\"None of them\")"
      ],
      "execution_count": 5,
      "outputs": [
        {
          "output_type": "stream",
          "text": [
            "Enter the string:- cautioned\n",
            "Enter the string:- education\n",
            "Its Anagram\n"
          ],
          "name": "stdout"
        }
      ]
    },
    {
      "cell_type": "markdown",
      "metadata": {
        "id": "eoyRYkEmgdeh",
        "colab_type": "text"
      },
      "source": [
        "4.Write a Python's user-defined function that removes all the additional characters from the string and\n",
        "convert it finally to lower case using built-in lower(). eg: If the string is \"Dr. Darshan Ingle @AIML Trainer\",\n",
        "then the output be \"drdarshaningleaimltrainer\"."
      ]
    },
    {
      "cell_type": "code",
      "metadata": {
        "id": "AnqruI5Lgkef",
        "colab_type": "code",
        "colab": {
          "base_uri": "https://localhost:8080/",
          "height": 51
        },
        "outputId": "fa6eeef0-68b6-4f5d-92a3-5f7a1cadf1ff"
      },
      "source": [
        "a = input(\"Enter the string:-\")\n",
        "def remove(x):\n",
        "  x = x.lower()\n",
        "  x = x.replace('@','')\n",
        "  x = x.replace('.','')\n",
        "  x = x.replace(' ','')\n",
        "  x = x.replace(',','')\n",
        "  x = x.replace('!','')\n",
        "  print(x)\n",
        "remove(a)"
      ],
      "execution_count": 9,
      "outputs": [
        {
          "output_type": "stream",
          "text": [
            "Enter the string:-Dr. Darshan Ingle @AIML Trainer\n",
            "drdarshaningleaimltrainer\n"
          ],
          "name": "stdout"
        }
      ]
    }
  ]
}